{
 "cells": [
  {
   "cell_type": "code",
   "execution_count": 1,
   "metadata": {},
   "outputs": [
    {
     "data": {
      "text/plain": [
       "'\\n住宅の価格を特徴量から予測する\\n\\n評価方法 RMSE\\n'"
      ]
     },
     "execution_count": 1,
     "metadata": {},
     "output_type": "execute_result"
    }
   ],
   "source": [
    "#概要\n",
    "\"\"\"\n",
    "住宅の価格を特徴量から予測する\n",
    "\n",
    "評価方法 RMSE\n",
    "\"\"\""
   ]
  },
  {
   "cell_type": "code",
   "execution_count": 28,
   "metadata": {},
   "outputs": [
    {
     "name": "stdout",
     "output_type": "stream",
     "text": [
      "data size \n",
      "train : 1460\n",
      "test : 1459\n"
     ]
    }
   ],
   "source": [
    "import pandas as pd\n",
    "import numpy as np\n",
    "\n",
    "train = pd.read_csv(\"train.csv\")\n",
    "test = pd.read_csv(\"test.csv\")\n",
    "sample = pd.read_csv(\"sample_submission.csv\")\n",
    "print(\"data size \\ntrain : {}\\ntest : {}\".format(len(train), len(test)))"
   ]
  },
  {
   "cell_type": "code",
   "execution_count": 29,
   "metadata": {
    "collapsed": true
   },
   "outputs": [],
   "source": [
    "#ベースラインとしてxgboost回帰を行う\n",
    "#特徴量の作成\n",
    "#trainを学習用とValidation用に分ける 1000 : 460"
   ]
  },
  {
   "cell_type": "code",
   "execution_count": 30,
   "metadata": {},
   "outputs": [
    {
     "name": "stdout",
     "output_type": "stream",
     "text": [
      "['MSSubClass', 'MSZoning', 'Street', 'Alley', 'LotShape', 'LandContour', 'Utilities', 'LotConfig', 'LandSlope', 'Neighborhood', 'Condition1', 'Condition2', 'BldgType', 'HouseStyle', 'RoofStyle', 'RoofMatl', 'Exterior1st', 'Exterior2nd', 'MasVnrType', 'ExterQual', 'ExterCond', 'Foundation', 'BsmtQual', 'BsmtCond', 'BsmtExposure', 'BsmtFinType1', 'BsmtFinType2', 'Heating', 'HeatingQC', 'CentralAir', 'Electrical', 'KitchenQual', 'Functional', 'FireplaceQu', 'GarageType', 'GarageFinish', 'GarageQual', 'GarageCond', 'PavedDrive', 'PoolQC', 'Fence', 'MiscFeature', 'MoSold', 'YrSold', 'SaleType', 'SaleCondition'] ['Id', 'LotFrontage', 'LotArea', 'OverallQual', 'OverallCond', 'YearBuilt', 'YearRemodAdd', 'MasVnrArea', 'BsmtFinSF1', 'BsmtFinSF2', 'BsmtUnfSF', 'TotalBsmtSF', '1stFlrSF', '2ndFlrSF', 'LowQualFinSF', 'GrLivArea', 'BsmtFullBath', 'BsmtHalfBath', 'FullBath', 'HalfBath', 'BedroomAbvGr', 'KitchenAbvGr', 'TotRmsAbvGrd', 'Fireplaces', 'GarageYrBlt', 'GarageCars', 'GarageArea', 'WoodDeckSF', 'OpenPorchSF', 'EnclosedPorch', '3SsnPorch', 'ScreenPorch', 'PoolArea', 'MiscVal', 'SalePrice']\n",
      "val num :35 \n",
      "cat num :46\n",
      "total num 81\n",
      "base num 81\n"
     ]
    }
   ],
   "source": [
    "#数値データと名前データに分ける\n",
    "#いくつかは数値だがカテゴリーデータとして扱う\n",
    "columns = train.columns\n",
    "val_col = []\n",
    "cat_col = []\n",
    "import math\n",
    "\n",
    "for c in columns:\n",
    "    data = train[c]\n",
    "    Cats = [\"MSSubClass\", \"MoSold\", \"YrSold\"]\n",
    "    if c in Cats:\n",
    "        cat_col.append(c)\n",
    "        continue\n",
    "        \n",
    "    for d in data:\n",
    "        if type(d) == str:\n",
    "            cat_col.append(c)\n",
    "            break\n",
    "        if math.isnan(d):\n",
    "            continue\n",
    "        else:\n",
    "            val_col.append(c)\n",
    "            break\n",
    "            \n",
    "\n",
    "print(cat_col, val_col)\n",
    "print(\"val num :{} \\ncat num :{}\".format(len(val_col), len(cat_col)))\n",
    "print(\"total num\", len(val_col) + len(cat_col))\n",
    "print(\"base num\", len(columns))\n"
   ]
  },
  {
   "cell_type": "code",
   "execution_count": 79,
   "metadata": {},
   "outputs": [],
   "source": [
    "#特徴ベクトルに変換する\n",
    "#valのnanは０うめ\n",
    "def pd2feats(data_pd):\n",
    "    feats_pd = data_pd.loc[:,val_col].copy()\n",
    "    feats_pd = feats_pd.fillna(0)\n",
    "    \n",
    "    for cn in cat_col:\n",
    "        data = data_pd[cn].copy()\n",
    "        data[data != data] = \"NA\"\n",
    "        dummy = pd.get_dummies(data)\n",
    "        feats_pd = pd.concat([feats_pd, dummy], axis=1)\n",
    "\n",
    "    return feats_pd\n",
    "\n",
    "train_pd = pd2feats(train)"
   ]
  },
  {
   "cell_type": "code",
   "execution_count": 96,
   "metadata": {},
   "outputs": [],
   "source": [
    "#特徴ベクトルの作成\n",
    "_train_pd = train_pd.copy()\n",
    "del _train_pd[\"Id\"]\n",
    "del _train_pd[\"SalePrice\"]\n",
    "train_arr = np.array(_train_pd)\n",
    "train_size = 1000\n",
    "train_data = train_arr[:train_size].copy()\n",
    "val_data = train_arr[train_size:].copy()\n",
    "train_target = np.log(np.array(train_pd.loc[:,[\"SalePrice\"]].copy()))\n",
    "train_target_arr = train_target[:train_size].copy()\n",
    "val_target_arr = train_target[train_size:].copy()\n"
   ]
  },
  {
   "cell_type": "code",
   "execution_count": 97,
   "metadata": {},
   "outputs": [
    {
     "data": {
      "text/plain": [
       "XGBRegressor(base_score=0.5, booster='gbtree', colsample_bylevel=1,\n",
       "       colsample_bytree=1, gamma=0, learning_rate=0.1, max_delta_step=0,\n",
       "       max_depth=4, min_child_weight=3, missing=None, n_estimators=250,\n",
       "       n_jobs=1, nthread=None, objective='reg:linear', random_state=0,\n",
       "       reg_alpha=0.05, reg_lambda=0.05, scale_pos_weight=1, seed=None,\n",
       "       silent=True, subsample=1, sumsample=0.8)"
      ]
     },
     "execution_count": 97,
     "metadata": {},
     "output_type": "execute_result"
    }
   ],
   "source": [
    "#xgboost\n",
    "import xgboost as xgb\n",
    "model = xgb.XGBRegressor(max_depth=4, n_estimators=250, \n",
    "                         min_child_weight=3,reg_alpha=0.05,\n",
    "                        reg_lambda=0.05, sumsample=0.8)\n",
    "model.fit(train_data, train_target_arr)\n"
   ]
  },
  {
   "cell_type": "code",
   "execution_count": 106,
   "metadata": {},
   "outputs": [
    {
     "name": "stdout",
     "output_type": "stream",
     "text": [
      "Train RMSE : 0.0335301449164\n",
      "Val RMSE : 0.126619289858\n"
     ]
    }
   ],
   "source": [
    "#RMSE算出\n",
    "\n",
    "def CalRMSE(model):\n",
    "    train_predict = model.predict(train_data)\n",
    "    val_predict = model.predict(val_data)\n",
    "    train_rmse = np.sqrt(np.mean((train_predict - train_target_arr[:,0])**2))\n",
    "    val_rmse = np.sqrt(np.mean((val_predict - val_target_arr[:,0])**2))\n",
    "    print(\"Train RMSE :\", train_rmse)\n",
    "    print(\"Val RMSE :\", val_rmse)\n",
    "\n",
    "CalRMSE(model)\n",
    "\n",
    "\n"
   ]
  },
  {
   "cell_type": "code",
   "execution_count": 112,
   "metadata": {},
   "outputs": [
    {
     "name": "stdout",
     "output_type": "stream",
     "text": [
      "{'Id': -0.021916719443431106, 'MSSubClass': -0.084284135126595189, 'LotFrontage': 0.33477085313976007, 'LotArea': 0.26384335387140562, 'OverallQual': 0.79098160058380496, 'OverallCond': -0.077855894048678015, 'YearBuilt': 0.52289733287949691, 'YearRemodAdd': 0.50710096711138619, 'MasVnrArea': 0.47261449900457386, 'BsmtFinSF1': 0.38641980624215339, 'BsmtFinSF2': -0.011378121450215144, 'BsmtUnfSF': 0.21447910554696892, 'TotalBsmtSF': 0.61358055155919544, '1stFlrSF': 0.6058521846919146, '2ndFlrSF': 0.31933380283206786, 'LowQualFinSF': -0.025606130000679544, 'GrLivArea': 0.70862447761265224, 'BsmtFullBath': 0.22712223313149427, 'BsmtHalfBath': -0.016844154297359009, 'FullBath': 0.56066376274844609, 'HalfBath': 0.28410767559478262, 'BedroomAbvGr': 0.16821315430073999, 'KitchenAbvGr': -0.13590737084214122, 'TotRmsAbvGrd': 0.53372315558202821, 'Fireplaces': 0.4669288367515278, 'GarageYrBlt': 0.46675365236333943, 'GarageCars': 0.64040919725835221, 'GarageArea': 0.62343143891836172, 'WoodDeckSF': 0.32441344456812993, 'OpenPorchSF': 0.31585622711605538, 'EnclosedPorch': -0.12857795792595678, '3SsnPorch': 0.044583665335748403, 'ScreenPorch': 0.11144657114291123, 'PoolArea': 0.092403549491873224, 'MiscVal': -0.021189579640303251, 'MoSold': 0.046432245223819356, 'YrSold': -0.028922585168730332}\n",
      "{'MSZoning': 0.32796292998790211, 'Street': 0.041035535500049534, 'Alley': 0.14285497856663895, 'LotShape': 0.27636155219251429, 'LandContour': 0.16060537183203935, 'Utilities': 0.014314296147248773, 'LotConfig': 0.14498056607030041, 'LandSlope': 0.051784414298815404, 'Neighborhood': 0.73863048326586356, 'Condition1': 0.18063953044536341, 'Condition2': 0.099494526062831379, 'BldgType': 0.18583333094140705, 'HouseStyle': 0.29379010756719531, 'RoofStyle': 0.2402012284068327, 'RoofMatl': 0.17723747640844897, 'Exterior1st': 0.39086202570996048, 'Exterior2nd': 0.39221149922589343, 'MasVnrType': 0.43453711043076526, 'ExterQual': 0.69093254209583044, 'ExterCond': 0.15368025465904525, 'Foundation': 0.50632835347274185, 'BsmtQual': 0.68190452270109558, 'BsmtCond': 0.22670642511670291, 'BsmtExposure': 0.38665272781048293, 'BsmtFinType1': 0.45914094751281065, 'BsmtFinType2': 0.1740516691435969, 'Heating': 0.12015463131446785, 'HeatingQC': 0.44215436879001102, 'CentralAir': 0.25132816384015499, 'Electrical': 0.24431835801832044, 'KitchenQual': 0.6757208184187744, 'Functional': 0.12837595460755499, 'FireplaceQu': 0.54218147714479836, 'GarageType': 0.49920359624534921, 'GarageFinish': 0.55305852981120796, 'GarageQual': 0.28534448927945921, 'GarageCond': 0.28521255702998038, 'PavedDrive': 0.23353742383318005, 'PoolQC': 0.1455881870634857, 'Fence': 0.18871861810427792, 'MiscFeature': 0.084141267800835431, 'SaleType': 0.37052326104924094, 'SaleCondition': 0.36809981916689516}\n"
     ]
    }
   ],
   "source": []
  },
  {
   "cell_type": "code",
   "execution_count": 108,
   "metadata": {},
   "outputs": [
    {
     "data": {
      "text/plain": [
       "array([[-1,  0,  1,  2,  3],\n",
       "       [-2, -1,  0,  1,  2],\n",
       "       [-3, -2, -1,  0,  1],\n",
       "       [-4, -3, -2, -1,  0],\n",
       "       [-5, -4, -3, -2, -1]])"
      ]
     },
     "execution_count": 108,
     "metadata": {},
     "output_type": "execute_result"
    }
   ],
   "source": [
    "a = np.array([1,2,3,4,5])\n",
    "b = np.array([2,3,4,5,6]).reshape(-1,1)\n"
   ]
  },
  {
   "cell_type": "code",
   "execution_count": 107,
   "metadata": {},
   "outputs": [
    {
     "data": {
      "text/plain": [
       "10.0"
      ]
     },
     "execution_count": 107,
     "metadata": {},
     "output_type": "execute_result"
    }
   ],
   "source": [
    "#特に何も考えず線形回帰 or xgboost回帰により住宅価格の予測を行う\n",
    "\n",
    "a = np.array([1,2,3,4,5])\n",
    "np.var(a)*5 "
   ]
  },
  {
   "cell_type": "code",
   "execution_count": 108,
   "metadata": {},
   "outputs": [
    {
     "data": {
      "text/plain": [
       "10"
      ]
     },
     "execution_count": 108,
     "metadata": {},
     "output_type": "execute_result"
    }
   ],
   "source": [
    "np.sum((a - 3)**2)"
   ]
  }
 ],
 "metadata": {
  "kernelspec": {
   "display_name": "Python 3",
   "language": "python",
   "name": "python3"
  },
  "language_info": {
   "codemirror_mode": {
    "name": "ipython",
    "version": 3
   },
   "file_extension": ".py",
   "mimetype": "text/x-python",
   "name": "python",
   "nbconvert_exporter": "python",
   "pygments_lexer": "ipython3",
   "version": "3.6.0"
  }
 },
 "nbformat": 4,
 "nbformat_minor": 2
}
